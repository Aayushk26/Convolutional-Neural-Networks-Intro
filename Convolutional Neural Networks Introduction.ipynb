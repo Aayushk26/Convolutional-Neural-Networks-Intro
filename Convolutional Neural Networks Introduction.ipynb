{
 "cells": [
  {
   "cell_type": "code",
   "execution_count": 1,
   "metadata": {},
   "outputs": [],
   "source": [
    "# Importing the necessary libraries\n",
    "import tensorflow as tf\n",
    "from keras.preprocessing.image import ImageDataGenerator\n",
    "from keras.models import Sequential\n",
    "from keras.layers import Dense, Dropout, Flatten, Conv2D, MaxPool2D"
   ]
  },
  {
   "cell_type": "code",
   "execution_count": 2,
   "metadata": {},
   "outputs": [
    {
     "data": {
      "text/plain": [
       "<module 'tensorflow._api.v2.version' from 'C:\\\\Users\\\\Aayush Kandpal\\\\anaconda3\\\\lib\\\\site-packages\\\\tensorflow\\\\_api\\\\v2\\\\version\\\\__init__.py'>"
      ]
     },
     "execution_count": 2,
     "metadata": {},
     "output_type": "execute_result"
    }
   ],
   "source": [
    "tf.version"
   ]
  },
  {
   "cell_type": "code",
   "execution_count": 3,
   "metadata": {},
   "outputs": [
    {
     "name": "stdout",
     "output_type": "stream",
     "text": [
      "Found 8000 images belonging to 2 classes.\n"
     ]
    }
   ],
   "source": [
    "# Using some augmentation\n",
    "# This is done to reduce overfitting on the training images\n",
    "train_datagen = ImageDataGenerator(\n",
    "        rescale=1./255,\n",
    "        shear_range=0.2,\n",
    "        zoom_range=0.2,\n",
    "        horizontal_flip=True)\n",
    "training_set = train_datagen.flow_from_directory(\n",
    "        '\\\\dataset\\\\training_set',\n",
    "        target_size=(64, 64),\n",
    "        batch_size=64,\n",
    "        class_mode='binary')"
   ]
  },
  {
   "cell_type": "code",
   "execution_count": 4,
   "metadata": {},
   "outputs": [
    {
     "name": "stdout",
     "output_type": "stream",
     "text": [
      "Found 2000 images belonging to 2 classes.\n"
     ]
    }
   ],
   "source": [
    "test_datagen = ImageDataGenerator(rescale=1./255)\n",
    "test_set=test_datagen.flow_from_directory('\\\\dataset\\\\test_set',\n",
    "                                          target_size=(64, 64),\n",
    "        batch_size=64,\n",
    "        class_mode='binary')"
   ]
  },
  {
   "cell_type": "code",
   "execution_count": 5,
   "metadata": {},
   "outputs": [],
   "source": [
    "# Inittiating our model\n",
    "model=Sequential()\n"
   ]
  },
  {
   "cell_type": "code",
   "execution_count": 6,
   "metadata": {},
   "outputs": [],
   "source": [
    "# Convolution layer with dropout regularization\n",
    "# Follwed is the maxpooling\n",
    "# Finally we flatten the iamge so that it can be processed \n",
    "# Then we use the dense layer \n",
    "model.add(Conv2D(filters = 32, kernel_size = 3,\n",
    "                 activation ='relu', input_shape = (64,64,3)))\n",
    "model.add(Conv2D(filters = 32, kernel_size = 3,\n",
    "                 activation ='relu'))\n",
    "model.add(MaxPool2D(pool_size=2))\n",
    "model.add(Dropout(0.2))\n",
    "\n",
    "model.add(Conv2D(filters = 64, kernel_size = 3,\n",
    "                 activation ='relu'))\n",
    "model.add(Conv2D(filters = 64, kernel_size = 3,\n",
    "                 activation ='relu'))\n",
    "model.add(MaxPool2D(pool_size=2))\n",
    "model.add(Dropout(0.2))\n",
    "\n",
    "model.add(Flatten())\n",
    "model.add(Dense(256, activation = \"relu\"))\n",
    "model.add(Dense(1, activation = \"sigmoid\"))\n",
    "        \n"
   ]
  },
  {
   "cell_type": "code",
   "execution_count": 7,
   "metadata": {},
   "outputs": [],
   "source": [
    "# Compiling our model and using the adam optimizer\n",
    "model.compile(optimizer = 'adam' , loss = \"binary_crossentropy\", metrics=[\"accuracy\"])"
   ]
  },
  {
   "cell_type": "code",
   "execution_count": 8,
   "metadata": {},
   "outputs": [
    {
     "name": "stdout",
     "output_type": "stream",
     "text": [
      "Epoch 1/30\n",
      "125/125 [==============================] - 74s 593ms/step - loss: 0.6932 - accuracy: 0.5286 - val_loss: 0.6913 - val_accuracy: 0.5790\n",
      "Epoch 2/30\n",
      "125/125 [==============================] - 75s 598ms/step - loss: 0.6829 - accuracy: 0.5509 - val_loss: 0.6830 - val_accuracy: 0.5760\n",
      "Epoch 3/30\n",
      "125/125 [==============================] - 74s 596ms/step - loss: 0.6631 - accuracy: 0.6089 - val_loss: 0.6446 - val_accuracy: 0.6285\n",
      "Epoch 4/30\n",
      "125/125 [==============================] - 75s 598ms/step - loss: 0.6182 - accuracy: 0.6555 - val_loss: 0.6065 - val_accuracy: 0.6735\n",
      "Epoch 5/30\n",
      "125/125 [==============================] - 75s 601ms/step - loss: 0.5778 - accuracy: 0.6927 - val_loss: 0.5548 - val_accuracy: 0.7220\n",
      "Epoch 6/30\n",
      "125/125 [==============================] - 72s 575ms/step - loss: 0.5389 - accuracy: 0.7265 - val_loss: 0.5316 - val_accuracy: 0.7290\n",
      "Epoch 7/30\n",
      "125/125 [==============================] - 73s 580ms/step - loss: 0.5277 - accuracy: 0.7333 - val_loss: 0.5202 - val_accuracy: 0.7340\n",
      "Epoch 8/30\n",
      "125/125 [==============================] - 84s 674ms/step - loss: 0.5009 - accuracy: 0.7554 - val_loss: 0.5009 - val_accuracy: 0.7590\n",
      "Epoch 9/30\n",
      "125/125 [==============================] - 84s 668ms/step - loss: 0.4921 - accuracy: 0.7520 - val_loss: 0.4855 - val_accuracy: 0.7625\n",
      "Epoch 10/30\n",
      "125/125 [==============================] - 104s 829ms/step - loss: 0.4678 - accuracy: 0.7785 - val_loss: 0.4890 - val_accuracy: 0.7650\n",
      "Epoch 11/30\n",
      "125/125 [==============================] - 88s 706ms/step - loss: 0.4508 - accuracy: 0.7864 - val_loss: 0.4536 - val_accuracy: 0.7925\n",
      "Epoch 12/30\n",
      "125/125 [==============================] - 83s 667ms/step - loss: 0.4464 - accuracy: 0.7866 - val_loss: 0.4819 - val_accuracy: 0.7760\n",
      "Epoch 13/30\n",
      "125/125 [==============================] - 95s 763ms/step - loss: 0.4230 - accuracy: 0.7997 - val_loss: 0.4538 - val_accuracy: 0.7895\n",
      "Epoch 14/30\n",
      "125/125 [==============================] - 80s 639ms/step - loss: 0.4170 - accuracy: 0.8074 - val_loss: 0.4206 - val_accuracy: 0.8040\n",
      "Epoch 15/30\n",
      "125/125 [==============================] - 81s 648ms/step - loss: 0.4027 - accuracy: 0.8141 - val_loss: 0.4239 - val_accuracy: 0.8060\n",
      "Epoch 16/30\n",
      "125/125 [==============================] - 85s 679ms/step - loss: 0.3893 - accuracy: 0.8198 - val_loss: 0.4222 - val_accuracy: 0.8115\n",
      "Epoch 17/30\n",
      "125/125 [==============================] - 80s 638ms/step - loss: 0.3772 - accuracy: 0.8234 - val_loss: 0.4100 - val_accuracy: 0.8085\n",
      "Epoch 18/30\n",
      "125/125 [==============================] - 78s 624ms/step - loss: 0.3706 - accuracy: 0.8342 - val_loss: 0.3884 - val_accuracy: 0.8245\n",
      "Epoch 19/30\n",
      "125/125 [==============================] - 80s 636ms/step - loss: 0.3479 - accuracy: 0.8440 - val_loss: 0.4036 - val_accuracy: 0.8315\n",
      "Epoch 20/30\n",
      "125/125 [==============================] - 81s 647ms/step - loss: 0.3426 - accuracy: 0.8487 - val_loss: 0.3974 - val_accuracy: 0.8195\n",
      "Epoch 21/30\n",
      "125/125 [==============================] - 77s 613ms/step - loss: 0.3280 - accuracy: 0.8596 - val_loss: 0.3816 - val_accuracy: 0.8365\n",
      "Epoch 22/30\n",
      "125/125 [==============================] - 73s 581ms/step - loss: 0.3123 - accuracy: 0.8604 - val_loss: 0.4249 - val_accuracy: 0.8205\n",
      "Epoch 23/30\n",
      "125/125 [==============================] - 73s 584ms/step - loss: 0.3003 - accuracy: 0.8685 - val_loss: 0.4001 - val_accuracy: 0.8230\n",
      "Epoch 24/30\n",
      "125/125 [==============================] - 73s 581ms/step - loss: 0.2844 - accuracy: 0.8788 - val_loss: 0.3949 - val_accuracy: 0.8365\n",
      "Epoch 25/30\n",
      "125/125 [==============================] - 75s 601ms/step - loss: 0.2653 - accuracy: 0.8842 - val_loss: 0.4290 - val_accuracy: 0.8210\n",
      "Epoch 26/30\n",
      "125/125 [==============================] - 79s 630ms/step - loss: 0.2708 - accuracy: 0.8831 - val_loss: 0.4066 - val_accuracy: 0.8250\n",
      "Epoch 27/30\n",
      "125/125 [==============================] - 77s 616ms/step - loss: 0.2574 - accuracy: 0.8886 - val_loss: 0.4352 - val_accuracy: 0.8345\n",
      "Epoch 28/30\n",
      "125/125 [==============================] - 89s 715ms/step - loss: 0.2456 - accuracy: 0.8995 - val_loss: 0.4092 - val_accuracy: 0.8320\n",
      "Epoch 29/30\n",
      "125/125 [==============================] - 78s 626ms/step - loss: 0.2202 - accuracy: 0.9129 - val_loss: 0.4305 - val_accuracy: 0.8435\n",
      "Epoch 30/30\n",
      "125/125 [==============================] - 74s 591ms/step - loss: 0.2210 - accuracy: 0.9082 - val_loss: 0.4428 - val_accuracy: 0.8285\n"
     ]
    },
    {
     "data": {
      "text/plain": [
       "<tensorflow.python.keras.callbacks.History at 0x15ace669c40>"
      ]
     },
     "execution_count": 8,
     "metadata": {},
     "output_type": "execute_result"
    }
   ],
   "source": [
    "# Increase the epochs to > 25 for better results. \n",
    "model.fit(x=training_set,validation_data=test_set,epochs=30)"
   ]
  },
  {
   "cell_type": "code",
   "execution_count": null,
   "metadata": {},
   "outputs": [],
   "source": [
    "# Making predcitions.\n",
    "# From the test set present in the test_dataset. Copy the path and chacek if the model correctly identified the cat or dog.\n",
    "import numpy as np\n",
    "from keras.preprocessing import image\n",
    "test_image = image.load_img('dataset/single_prediction/cat_or_dog_1.jpg', target_size = (64, 64))\n",
    "test_image = image.img_to_array(test_image)\n",
    "test_image = np.expand_dims(test_image, axis = 0)\n",
    "result = cnn.predict(test_image)\n",
    "training_set.class_indices\n",
    "if result[0][0] == 1:\n",
    "  prediction = 'dog'\n",
    "else:\n",
    "  prediction = 'cat'"
   ]
  },
  {
   "cell_type": "code",
   "execution_count": null,
   "metadata": {},
   "outputs": [],
   "source": [
    "# Play around with the number of filters , dropout values, batch_size, the image shape and number of strides to improve the model.\n",
    "# there is no rule or algorithm that can detect at what values the model will be able to perform most efficiently."
   ]
  }
 ],
 "metadata": {
  "kernelspec": {
   "display_name": "Python 3",
   "language": "python",
   "name": "python3"
  },
  "language_info": {
   "codemirror_mode": {
    "name": "ipython",
    "version": 3
   },
   "file_extension": ".py",
   "mimetype": "text/x-python",
   "name": "python",
   "nbconvert_exporter": "python",
   "pygments_lexer": "ipython3",
   "version": "3.8.3"
  }
 },
 "nbformat": 4,
 "nbformat_minor": 4
}
